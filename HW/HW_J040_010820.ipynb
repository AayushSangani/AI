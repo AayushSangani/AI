{
  "nbformat": 4,
  "nbformat_minor": 0,
  "metadata": {
    "colab": {
      "name": "AI_Python_HW_3.ipynb",
      "provenance": [],
      "authorship_tag": "ABX9TyPviYOuEx2rMOw9MoT/zCpm",
      "include_colab_link": true
    },
    "kernelspec": {
      "name": "python3",
      "display_name": "Python 3"
    }
  },
  "cells": [
    {
      "cell_type": "markdown",
      "metadata": {
        "id": "view-in-github",
        "colab_type": "text"
      },
      "source": [
        "<a href=\"https://colab.research.google.com/github/AayushSangani/AI/blob/master/HW/HW_J040_010820.ipynb\" target=\"_parent\"><img src=\"https://colab.research.google.com/assets/colab-badge.svg\" alt=\"Open In Colab\"/></a>"
      ]
    },
    {
      "cell_type": "markdown",
      "metadata": {
        "id": "QDeXxdfHEYI_",
        "colab_type": "text"
      },
      "source": [
        "#Validating Postal Codes"
      ]
    },
    {
      "cell_type": "code",
      "metadata": {
        "id": "GL3fV_jPGve1",
        "colab_type": "code",
        "colab": {}
      },
      "source": [
        "regex_integer_in_range = r\"^[1-9][\\d]{5}$\"    #Do not delete 'r'.\n",
        "regex_alternating_repetitive_digit_pair = r\"(\\d)(?=\\d\\1)\"    #Do not delete 'r'.\n",
        "import re\n",
        "P = input()\n",
        "\n",
        "print (bool(re.match(regex_integer_in_range, P)) \n",
        "and len(re.findall(regex_alternating_repetitive_digit_pair, P)) < 2)"
      ],
      "execution_count": null,
      "outputs": []
    },
    {
      "cell_type": "markdown",
      "metadata": {
        "id": "E3ELH23JFucB",
        "colab_type": "text"
      },
      "source": [
        "#The Coin Change Problem"
      ]
    },
    {
      "cell_type": "code",
      "metadata": {
        "id": "JO8w8EgUHbqM",
        "colab_type": "code",
        "colab": {}
      },
      "source": [
        "#!/bin/python\n",
        "\n",
        "import math\n",
        "import os\n",
        "import random\n",
        "import re\n",
        "import sys\n",
        "\n",
        "#Complete the 'getWays' function below.\n",
        "#The function is expected to return a LONG_INTEGER.\n",
        "#The function accepts following parameters:\n",
        "#1. INTEGER n\n",
        "#2. LONG_INTEGER_ARRAY c\n",
        "\n",
        "def getWays(n, c):\n",
        "    # Write your code here\n",
        "    arr = [0 for x in range(n+1)]\n",
        "    arr[0] = 1\n",
        "\n",
        "    for i in c:\n",
        "        for j in range(1,n+1):\n",
        "            if n>=i:\n",
        "                if j>=i:\n",
        "                    arr[j] += arr[j-i]\n",
        "    return arr\n",
        "\n",
        "if __name__ == '__main__':\n",
        "    fptr = open(os.environ['OUTPUT_PATH'], 'w')\n",
        "\n",
        "    first_multiple_input = raw_input().rstrip().split()\n",
        "\n",
        "    n = int(first_multiple_input[0])\n",
        "\n",
        "    m = int(first_multiple_input[1])\n",
        "\n",
        "    c = map(long, raw_input().rstrip().split())\n",
        "\n",
        "    #Print the number of ways of making change for 'n' units using coins having the values given by 'c'.\n",
        "\n",
        "    ways = getWays(n, c)\n",
        "    ways = ways[-1]\n",
        "\n",
        "    fptr.write(str(ways) + '\\n')\n",
        "\n",
        "    fptr.close()\n"
      ],
      "execution_count": null,
      "outputs": []
    },
    {
      "cell_type": "markdown",
      "metadata": {
        "id": "VHgRqqAPH-cc",
        "colab_type": "text"
      },
      "source": [
        "#Sherlock and Cost"
      ]
    },
    {
      "cell_type": "code",
      "metadata": {
        "id": "8R81CSnHIAub",
        "colab_type": "code",
        "colab": {}
      },
      "source": [
        "import math\n",
        "import os\n",
        "import random\n",
        "import re\n",
        "import sys\n",
        "\n",
        "#Complete the cost function below.\n",
        "def cost(B):\n",
        "    high, low = 0,0\n",
        "\n",
        "    for i in range(1,n):\n",
        "        h1, h2, h3= abs(B[i-1] - 1), abs(B[i] - 1), abs(B[i] - B[i-1])\n",
        "        new_low = max(low, high + h1)\n",
        "        new_high = max(high + h3, low + h2)\n",
        "        high, low = new_high, new_low\n",
        "    return (max(low,high))\n",
        "\n",
        "if __name__ == '__main__':\n",
        "    fptr = open(os.environ['OUTPUT_PATH'], 'w')\n",
        "\n",
        "    t = int(raw_input())\n",
        "\n",
        "    for t_itr in xrange(t):\n",
        "        n = int(raw_input())\n",
        "\n",
        "        B = map(int, raw_input().rstrip().split())\n",
        "\n",
        "        result = cost(B)\n",
        "\n",
        "        fptr.write(str(result) + '\\n')\n",
        "\n",
        "    fptr.close()"
      ],
      "execution_count": null,
      "outputs": []
    }
  ]
}