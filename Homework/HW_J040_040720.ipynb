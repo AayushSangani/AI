{
  "nbformat": 4,
  "nbformat_minor": 0,
  "metadata": {
    "colab": {
      "name": "Copy of Untitled2.ipynb",
      "provenance": [],
      "authorship_tag": "ABX9TyPTvsCx/b4JgvWe7SIu7t86",
      "include_colab_link": true
    },
    "kernelspec": {
      "name": "python3",
      "display_name": "Python 3"
    }
  },
  "cells": [
    {
      "cell_type": "markdown",
      "metadata": {
        "id": "view-in-github",
        "colab_type": "text"
      },
      "source": [
        "<a href=\"https://colab.research.google.com/github/AayushSangani/AI/blob/master/Homework/HW_J040_040720.ipynb\" target=\"_parent\"><img src=\"https://colab.research.google.com/assets/colab-badge.svg\" alt=\"Open In Colab\"/></a>"
      ]
    },
    {
      "cell_type": "code",
      "metadata": {
        "id": "roAoEwxaSO7L",
        "colab_type": "code",
        "colab": {}
      },
      "source": [
        "#Python If-Else\n",
        "\n",
        "#!/bin/python\n",
        "\n",
        "import math\n",
        "import os\n",
        "import random\n",
        "import re\n",
        "import sys\n",
        "\n",
        "if __name__ == '__main__':\n",
        "    n = int(input().strip())\n",
        "    \n",
        "    if 1<=n<=100:\n",
        "        if n%2!=0 :\n",
        "            print(\"Weird\")\n",
        "        elif n%2==0 and 2<=n<=5:\n",
        "            print(\"Not Weird\")\n",
        "        elif n%2==0 and 6<=n<=20:\n",
        "            print(\"Weird\")\n",
        "        elif n%2==0 and n>20:\n",
        "            print(\"Not Weird\")   \n",
        "    else:\n",
        "        pass"
      ],
      "execution_count": null,
      "outputs": []
    },
    {
      "cell_type": "code",
      "metadata": {
        "id": "8bGYirNMTyai",
        "colab_type": "code",
        "colab": {}
      },
      "source": [
        "#Arithmetic Operators\n",
        "\n",
        "if __name__ == '__main__':\n",
        "    a = int(input())\n",
        "    b = int(input())\n",
        "    \n",
        "    if 1<=a<=pow(10,10) and 1<=b<=pow(10,10):\n",
        "        print(a+b)\n",
        "        print(a-b)\n",
        "        print(a*b)"
      ],
      "execution_count": null,
      "outputs": []
    },
    {
      "cell_type": "code",
      "metadata": {
        "id": "ixEeKR88UgdH",
        "colab_type": "code",
        "colab": {}
      },
      "source": [
        "#Python: Division\n",
        "\n",
        "if __name__ == '__main__':\n",
        "    a = int(input())\n",
        "    b = int(input())\n",
        "    \n",
        "    print(a//b)\n",
        "    print(a/b)"
      ],
      "execution_count": null,
      "outputs": []
    },
    {
      "cell_type": "code",
      "metadata": {
        "id": "UXlQ2327UgZS",
        "colab_type": "code",
        "colab": {}
      },
      "source": [
        "#Loops\n",
        "\n",
        "if __name__ == '__main__':\n",
        "    n = int(input())\n",
        "    \n",
        "    if 1<=n<=20:\n",
        "        for i in range(0,n):\n",
        "            print(pow(i,2))"
      ],
      "execution_count": null,
      "outputs": []
    },
    {
      "cell_type": "code",
      "metadata": {
        "id": "NXLX-MkxUgXo",
        "colab_type": "code",
        "colab": {}
      },
      "source": [
        "#Print Function\n",
        "\n",
        "if __name__ == '__main__':\n",
        "    n = int(input())\n",
        "    \n",
        "    for i in range(1,n+1):\n",
        "        print(i,end='')"
      ],
      "execution_count": null,
      "outputs": []
    },
    {
      "cell_type": "code",
      "metadata": {
        "id": "St7vqg8UUgFG",
        "colab_type": "code",
        "colab": {}
      },
      "source": [
        "#List Comprehensions\n",
        "\n",
        "if __name__ == '__main__':\n",
        "    x = int(input())\n",
        "    y = int(input())\n",
        "    z = int(input())\n",
        "    n = int(input())\n",
        "    \n",
        "    lst = [[i,j,k] for i in range(0,x+1) for j in range(0,y+1) for k in range(0,z+1) if i+j+k!=n]\n",
        "    print(lst)"
      ],
      "execution_count": null,
      "outputs": []
    }
  ]
}