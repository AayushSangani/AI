{
  "nbformat": 4,
  "nbformat_minor": 0,
  "metadata": {
    "colab": {
      "name": "AI_Python_CW_2.ipynb",
      "provenance": [],
      "collapsed_sections": [],
      "authorship_tag": "ABX9TyOqfWGwfPGzH/ui+Yl+wL9b",
      "include_colab_link": true
    },
    "kernelspec": {
      "name": "python3",
      "display_name": "Python 3"
    }
  },
  "cells": [
    {
      "cell_type": "markdown",
      "metadata": {
        "id": "view-in-github",
        "colab_type": "text"
      },
      "source": [
        "<a href=\"https://colab.research.google.com/github/AayushSangani/AI/blob/master/CW/CW_J040_11_07_20.ipynb\" target=\"_parent\"><img src=\"https://colab.research.google.com/assets/colab-badge.svg\" alt=\"Open In Colab\"/></a>"
      ]
    },
    {
      "cell_type": "code",
      "metadata": {
        "id": "Mtf8V1OChqHA",
        "colab_type": "code",
        "colab": {}
      },
      "source": [
        "import numpy as np\n",
        "import pandas as pd"
      ],
      "execution_count": null,
      "outputs": []
    },
    {
      "cell_type": "markdown",
      "metadata": {
        "id": "Gdxi6-Bu1WKS",
        "colab_type": "text"
      },
      "source": [
        "Indentation Handling"
      ]
    },
    {
      "cell_type": "code",
      "metadata": {
        "id": "hpH7vlDs1Uaq",
        "colab_type": "code",
        "colab": {}
      },
      "source": [
        "a=5\n",
        "b=6\n",
        "c=8"
      ],
      "execution_count": null,
      "outputs": []
    },
    {
      "cell_type": "code",
      "metadata": {
        "id": "yRgTEPOigKYS",
        "colab_type": "code",
        "colab": {
          "base_uri": "https://localhost:8080/",
          "height": 131
        },
        "outputId": "259f3506-1c21-4877-a750-28842f1c1ae3"
      },
      "source": [
        "if b<0:\n",
        "print('a')"
      ],
      "execution_count": null,
      "outputs": [
        {
          "output_type": "error",
          "ename": "IndentationError",
          "evalue": "ignored",
          "traceback": [
            "\u001b[0;36m  File \u001b[0;32m\"<ipython-input-42-c02bb9d82abe>\"\u001b[0;36m, line \u001b[0;32m2\u001b[0m\n\u001b[0;31m    print('a')\u001b[0m\n\u001b[0m        ^\u001b[0m\n\u001b[0;31mIndentationError\u001b[0m\u001b[0;31m:\u001b[0m expected an indented block\n"
          ]
        }
      ]
    },
    {
      "cell_type": "code",
      "metadata": {
        "id": "pj-eQOD54mbB",
        "colab_type": "code",
        "colab": {
          "base_uri": "https://localhost:8080/",
          "height": 35
        },
        "outputId": "0b7c01af-ba24-44f5-ebcb-d1af1678f004"
      },
      "source": [
        "if b>0:\n",
        "  print('a')"
      ],
      "execution_count": null,
      "outputs": [
        {
          "output_type": "stream",
          "text": [
            "a\n"
          ],
          "name": "stdout"
        }
      ]
    },
    {
      "cell_type": "code",
      "metadata": {
        "id": "5UazzTbi4ury",
        "colab_type": "code",
        "colab": {}
      },
      "source": [
        "def printer():\n",
        "  print(a+b)\n",
        "def sum(a,b):\n",
        "  return a+b"
      ],
      "execution_count": null,
      "outputs": []
    },
    {
      "cell_type": "code",
      "metadata": {
        "id": "Qv4sxgzE4_Sa",
        "colab_type": "code",
        "colab": {
          "base_uri": "https://localhost:8080/",
          "height": 35
        },
        "outputId": "4caee90a-f699-4d9b-b4d8-7d80a0ab9c3f"
      },
      "source": [
        "printer()"
      ],
      "execution_count": null,
      "outputs": [
        {
          "output_type": "stream",
          "text": [
            "11\n"
          ],
          "name": "stdout"
        }
      ]
    },
    {
      "cell_type": "code",
      "metadata": {
        "id": "XHdy8u7g4_Gh",
        "colab_type": "code",
        "colab": {
          "base_uri": "https://localhost:8080/",
          "height": 35
        },
        "outputId": "2ee3fe99-e483-463d-8433-af1974a4008c"
      },
      "source": [
        "sum(a,b)"
      ],
      "execution_count": null,
      "outputs": [
        {
          "output_type": "execute_result",
          "data": {
            "text/plain": [
              "11"
            ]
          },
          "metadata": {
            "tags": []
          },
          "execution_count": 5
        }
      ]
    },
    {
      "cell_type": "code",
      "metadata": {
        "id": "CUzvtUoi53WG",
        "colab_type": "code",
        "colab": {
          "base_uri": "https://localhost:8080/",
          "height": 35
        },
        "outputId": "2c3d7c53-5484-4adb-9493-54f7e326cea6"
      },
      "source": [
        "sum(a,c)"
      ],
      "execution_count": null,
      "outputs": [
        {
          "output_type": "execute_result",
          "data": {
            "text/plain": [
              "13"
            ]
          },
          "metadata": {
            "tags": []
          },
          "execution_count": 7
        }
      ]
    },
    {
      "cell_type": "code",
      "metadata": {
        "id": "fwsxhMkr87Dz",
        "colab_type": "code",
        "colab": {}
      },
      "source": [
        "a=c"
      ],
      "execution_count": null,
      "outputs": []
    },
    {
      "cell_type": "code",
      "metadata": {
        "id": "5IFC0Ld88-6u",
        "colab_type": "code",
        "colab": {
          "base_uri": "https://localhost:8080/",
          "height": 35
        },
        "outputId": "7d1e8e1d-68ae-47b8-e5ec-efd347dfd731"
      },
      "source": [
        "a"
      ],
      "execution_count": null,
      "outputs": [
        {
          "output_type": "execute_result",
          "data": {
            "text/plain": [
              "8"
            ]
          },
          "metadata": {
            "tags": []
          },
          "execution_count": 9
        }
      ]
    },
    {
      "cell_type": "code",
      "metadata": {
        "id": "FPoUzTbE9BrL",
        "colab_type": "code",
        "colab": {
          "base_uri": "https://localhost:8080/",
          "height": 35
        },
        "outputId": "f9e8dc4a-c829-4def-c8b9-4170e7c2d46f"
      },
      "source": [
        "a==c"
      ],
      "execution_count": null,
      "outputs": [
        {
          "output_type": "execute_result",
          "data": {
            "text/plain": [
              "True"
            ]
          },
          "metadata": {
            "tags": []
          },
          "execution_count": 10
        }
      ]
    },
    {
      "cell_type": "markdown",
      "metadata": {
        "id": "GEOFg7pZjOGk",
        "colab_type": "text"
      },
      "source": [
        "\n",
        "Data Conversions"
      ]
    },
    {
      "cell_type": "code",
      "metadata": {
        "id": "yjjRnxQw--Pu",
        "colab_type": "code",
        "colab": {
          "base_uri": "https://localhost:8080/",
          "height": 35
        },
        "outputId": "d14a35bd-c5d3-4b35-939f-81a4bfb6618a"
      },
      "source": [
        "int('11',2) #Conversion of base 2(binary) to base 10(decimal)"
      ],
      "execution_count": null,
      "outputs": [
        {
          "output_type": "execute_result",
          "data": {
            "text/plain": [
              "4"
            ]
          },
          "metadata": {
            "tags": []
          },
          "execution_count": 11
        }
      ]
    },
    {
      "cell_type": "code",
      "metadata": {
        "id": "bZd_rb60jmWK",
        "colab_type": "code",
        "colab": {}
      },
      "source": [
        "int('111',3) #Conversion of base 3(binary) to base 10(decimal)"
      ],
      "execution_count": null,
      "outputs": []
    },
    {
      "cell_type": "code",
      "metadata": {
        "id": "aj60uU6i_SN3",
        "colab_type": "code",
        "colab": {
          "base_uri": "https://localhost:8080/",
          "height": 35
        },
        "outputId": "1233984c-6083-45e9-c9db-dfe9bba0beeb"
      },
      "source": [
        "#Binary to Decimal\n",
        "float(int('10',4))"
      ],
      "execution_count": null,
      "outputs": [
        {
          "output_type": "execute_result",
          "data": {
            "text/plain": [
              "4.0"
            ]
          },
          "metadata": {
            "tags": []
          },
          "execution_count": 12
        }
      ]
    },
    {
      "cell_type": "code",
      "metadata": {
        "id": "CI17F0ODjvJX",
        "colab_type": "code",
        "colab": {
          "base_uri": "https://localhost:8080/",
          "height": 35
        },
        "outputId": "4c9c9362-6c53-496a-f373-c96abdea75bf"
      },
      "source": [
        "int('A',11)"
      ],
      "execution_count": 2,
      "outputs": [
        {
          "output_type": "execute_result",
          "data": {
            "text/plain": [
              "10"
            ]
          },
          "metadata": {
            "tags": []
          },
          "execution_count": 2
        }
      ]
    },
    {
      "cell_type": "code",
      "metadata": {
        "id": "mEn2KKLzj26D",
        "colab_type": "code",
        "colab": {
          "base_uri": "https://localhost:8080/",
          "height": 35
        },
        "outputId": "c83c475f-e4c6-4bf4-c5cc-5125a151c550"
      },
      "source": [
        "#Typecasting\n",
        "float(int('111',3))"
      ],
      "execution_count": 1,
      "outputs": [
        {
          "output_type": "execute_result",
          "data": {
            "text/plain": [
              "13.0"
            ]
          },
          "metadata": {
            "tags": []
          },
          "execution_count": 1
        }
      ]
    },
    {
      "cell_type": "code",
      "metadata": {
        "id": "Ni2WE1VnAx23",
        "colab_type": "code",
        "colab": {
          "base_uri": "https://localhost:8080/",
          "height": 35
        },
        "outputId": "a6c7c9c5-893c-45da-99ae-58e38fd9ca25"
      },
      "source": [
        "int('1A1212',11)"
      ],
      "execution_count": null,
      "outputs": [
        {
          "output_type": "execute_result",
          "data": {
            "text/plain": [
              "309047"
            ]
          },
          "metadata": {
            "tags": []
          },
          "execution_count": 15
        }
      ]
    },
    {
      "cell_type": "code",
      "metadata": {
        "id": "i-rLM_6LJWnD",
        "colab_type": "code",
        "colab": {
          "base_uri": "https://localhost:8080/",
          "height": 35
        },
        "outputId": "b6ddc762-3305-4ac4-f28a-1a28b84b0f7d"
      },
      "source": [
        "#String\n",
        "str(int('1A1212',11))"
      ],
      "execution_count": null,
      "outputs": [
        {
          "output_type": "execute_result",
          "data": {
            "application/vnd.google.colaboratory.intrinsic": {
              "type": "string"
            },
            "text/plain": [
              "'309047'"
            ]
          },
          "metadata": {
            "tags": []
          },
          "execution_count": 30
        }
      ]
    },
    {
      "cell_type": "code",
      "metadata": {
        "id": "sWwp6A27CZw_",
        "colab_type": "code",
        "colab": {
          "base_uri": "https://localhost:8080/",
          "height": 35
        },
        "outputId": "504d63d3-3b93-4813-d859-b41a088d3b6a"
      },
      "source": [
        "def sum():\n",
        "  a = 'la la la la\\\n",
        "  la la la\\\n",
        "  la la'\n",
        "  print(a)\n",
        "sum()"
      ],
      "execution_count": null,
      "outputs": [
        {
          "output_type": "stream",
          "text": [
            "la la la la  la la la  la la\n"
          ],
          "name": "stdout"
        }
      ]
    },
    {
      "cell_type": "code",
      "metadata": {
        "id": "rULIuBrLG_d2",
        "colab_type": "code",
        "colab": {}
      },
      "source": [
        "a_=-4 #for using reserve keywords\n",
        "__a__=5\n",
        "a=6\n",
        "_a=9 #variable is intended for internal use (private variables)\n",
        "__a=91 #"
      ],
      "execution_count": null,
      "outputs": []
    },
    {
      "cell_type": "markdown",
      "metadata": {
        "id": "FXFChmVjkMK-",
        "colab_type": "text"
      },
      "source": [
        "**Classes**"
      ]
    },
    {
      "cell_type": "code",
      "metadata": {
        "id": "ualDbmqiI_aK",
        "colab_type": "code",
        "colab": {}
      },
      "source": [
        "def make_a(a,class_):\n",
        "  pass"
      ],
      "execution_count": null,
      "outputs": []
    },
    {
      "cell_type": "code",
      "metadata": {
        "id": "H1HHgAm3JRCQ",
        "colab_type": "code",
        "colab": {}
      },
      "source": [
        "#Public vs Private Variables\n",
        "class human:\n",
        "  \"\"\" Members of a class \"\"\"\n",
        "  #attribute - variables - compulsory\n",
        "  #Method/behavior - function - compulsory"
      ],
      "execution_count": null,
      "outputs": []
    },
    {
      "cell_type": "markdown",
      "metadata": {
        "id": "Iv3cUTBVkRGz",
        "colab_type": "text"
      },
      "source": [
        "Name Wrangling"
      ]
    },
    {
      "cell_type": "code",
      "metadata": {
        "id": "w83L2PX8lg0q",
        "colab_type": "code",
        "colab": {
          "base_uri": "https://localhost:8080/",
          "height": 104
        },
        "outputId": "08c69191-9cab-4f17-d329-193d7403ea10"
      },
      "source": [
        "class Student:\n",
        "  a=6\n",
        "  def __init__(self,name):\n",
        "    #Instantiates the object of a class ~ contructor\n",
        "    #print(name)\n",
        "    self.name = name #attribute\n",
        "    self.__a=8 #name mangling\n",
        "\n",
        "  def displayName(self):\n",
        "    print(self.name)\n",
        "    print(self.__a)\n",
        "\n",
        "#Class vs Object\n",
        "s1 = Student(\"Sam\")\n",
        "s1.displayName()\n",
        "\n",
        "#Raises an error\n",
        "print(s1.name)\n",
        "print(s1._Student__a)\n",
        "print(s1.a)\n",
        "##If you define a global variable in a function with underscore, \n",
        "##then you have to access the variable by <object>._<class_name><variable_name_starting_with_underscore>"
      ],
      "execution_count": 6,
      "outputs": [
        {
          "output_type": "stream",
          "text": [
            "Sam\n",
            "8\n",
            "Sam\n",
            "8\n",
            "6\n"
          ],
          "name": "stdout"
        }
      ]
    },
    {
      "cell_type": "markdown",
      "metadata": {
        "id": "Sj00pPyimAe5",
        "colab_type": "text"
      },
      "source": [
        "Subclass"
      ]
    },
    {
      "cell_type": "code",
      "metadata": {
        "id": "NjDJ8po3lGqR",
        "colab_type": "code",
        "colab": {
          "base_uri": "https://localhost:8080/",
          "height": 52
        },
        "outputId": "00d48185-3d30-4c0e-c53b-4802ecfc98ee"
      },
      "source": [
        "class Child(Student):\n",
        "  def __init__(self, a, name):\n",
        "    self.a = a\n",
        "    Student.__init__(Student, name) \n",
        "\n",
        "s2 = Child(40, 'Steve')\n",
        "print(s2.name)\n",
        "print(s2.a)"
      ],
      "execution_count": 8,
      "outputs": [
        {
          "output_type": "stream",
          "text": [
            "Steve\n",
            "40\n"
          ],
          "name": "stdout"
        }
      ]
    },
    {
      "cell_type": "code",
      "metadata": {
        "id": "3ynAcxW0QSv5",
        "colab_type": "code",
        "colab": {
          "base_uri": "https://localhost:8080/",
          "height": 503
        },
        "outputId": "6557c5eb-4f9c-4e89-814b-d80055bd9081"
      },
      "source": [
        "dir(Student)"
      ],
      "execution_count": null,
      "outputs": [
        {
          "output_type": "execute_result",
          "data": {
            "text/plain": [
              "['__class__',\n",
              " '__delattr__',\n",
              " '__dict__',\n",
              " '__dir__',\n",
              " '__doc__',\n",
              " '__eq__',\n",
              " '__format__',\n",
              " '__ge__',\n",
              " '__getattribute__',\n",
              " '__gt__',\n",
              " '__hash__',\n",
              " '__init__',\n",
              " '__init_subclass__',\n",
              " '__le__',\n",
              " '__lt__',\n",
              " '__module__',\n",
              " '__ne__',\n",
              " '__new__',\n",
              " '__reduce__',\n",
              " '__reduce_ex__',\n",
              " '__repr__',\n",
              " '__setattr__',\n",
              " '__sizeof__',\n",
              " '__str__',\n",
              " '__subclasshook__',\n",
              " '__weakref__',\n",
              " 'a',\n",
              " 'displayName']"
            ]
          },
          "metadata": {
            "tags": []
          },
          "execution_count": 39
        }
      ]
    },
    {
      "cell_type": "markdown",
      "metadata": {
        "id": "7_CcUYdParD8",
        "colab_type": "text"
      },
      "source": [
        ""
      ]
    }
  ]
}