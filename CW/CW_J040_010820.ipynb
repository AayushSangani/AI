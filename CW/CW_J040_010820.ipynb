{
  "nbformat": 4,
  "nbformat_minor": 0,
  "metadata": {
    "colab": {
      "name": "AI_Python_CW_3.ipynb",
      "provenance": [],
      "authorship_tag": "ABX9TyO6xvzRIJ9taPkcyVF6kbAQ",
      "include_colab_link": true
    },
    "kernelspec": {
      "name": "python3",
      "display_name": "Python 3"
    }
  },
  "cells": [
    {
      "cell_type": "markdown",
      "metadata": {
        "id": "view-in-github",
        "colab_type": "text"
      },
      "source": [
        "<a href=\"https://colab.research.google.com/github/AayushSangani/AI/blob/master/CW/CW_J040_010820.ipynb\" target=\"_parent\"><img src=\"https://colab.research.google.com/assets/colab-badge.svg\" alt=\"Open In Colab\"/></a>"
      ]
    },
    {
      "cell_type": "markdown",
      "metadata": {
        "id": "RJskq1-TqPU6",
        "colab_type": "text"
      },
      "source": [
        "**Recursion**: Function calling itself during execution"
      ]
    },
    {
      "cell_type": "code",
      "metadata": {
        "id": "n7qvf1ToMhtK",
        "colab_type": "code",
        "colab": {}
      },
      "source": [
        "1+2+3+4 \\n\n",
        "1+2=3 #Sum(1,2) \\n\n",
        "3+3=6 #Sum(Sum(1,2),3) \\n\n",
        "6+4=10 #Sum(Sum(Sum(1,2),3),4) \\n\n",
        "\n",
        "#Memoisation ~ Memorandum(Latin) (To be remebered)\n",
        "#Storing intermediate values through various ways"
      ],
      "execution_count": null,
      "outputs": []
    },
    {
      "cell_type": "markdown",
      "metadata": {
        "id": "pGHI9SQhqgK4",
        "colab_type": "text"
      },
      "source": [
        "**Factorial**"
      ]
    },
    {
      "cell_type": "code",
      "metadata": {
        "id": "hxK-gwjWdk1e",
        "colab_type": "code",
        "colab": {
          "base_uri": "https://localhost:8080/",
          "height": 35
        },
        "outputId": "d505d8d7-5df1-4373-df04-81d41f9f6432"
      },
      "source": [
        "#Calculating 7!\n",
        "7*6*5*4*3*2*1"
      ],
      "execution_count": 5,
      "outputs": [
        {
          "output_type": "execute_result",
          "data": {
            "text/plain": [
              "5040"
            ]
          },
          "metadata": {
            "tags": []
          },
          "execution_count": 5
        }
      ]
    },
    {
      "cell_type": "code",
      "metadata": {
        "id": "03VPZ4E7FE0c",
        "colab_type": "code",
        "colab": {}
      },
      "source": [
        "def factorial_recursion(n): \n",
        "  factor=1\n",
        "  if n == 0: \n",
        "    return factor \n",
        "  else: \n",
        "    return n*factorial_recursion(n-1)"
      ],
      "execution_count": 6,
      "outputs": []
    },
    {
      "cell_type": "code",
      "metadata": {
        "id": "w29CNCvXIOw0",
        "colab_type": "code",
        "colab": {
          "base_uri": "https://localhost:8080/",
          "height": 35
        },
        "outputId": "82188b31-639b-4190-cd8c-e6de100dbac0"
      },
      "source": [
        "factorial_recursion(5)"
      ],
      "execution_count": 7,
      "outputs": [
        {
          "output_type": "execute_result",
          "data": {
            "text/plain": [
              "120"
            ]
          },
          "metadata": {
            "tags": []
          },
          "execution_count": 7
        }
      ]
    },
    {
      "cell_type": "code",
      "metadata": {
        "id": "YQxp9dfmn1aK",
        "colab_type": "code",
        "colab": {}
      },
      "source": [
        "def factorial_simple(n):\n",
        "    factor = 1\n",
        "    for i in range(1,n+1):\n",
        "        factor=factor*i\n",
        "    return factor"
      ],
      "execution_count": 42,
      "outputs": []
    },
    {
      "cell_type": "code",
      "metadata": {
        "id": "6j8gYqNHISsV",
        "colab_type": "code",
        "colab": {
          "base_uri": "https://localhost:8080/",
          "height": 35
        },
        "outputId": "b312bc7e-c6e0-4db2-b15e-c8e756dc9cb3"
      },
      "source": [
        "factorial_simple(6)"
      ],
      "execution_count": 43,
      "outputs": [
        {
          "output_type": "execute_result",
          "data": {
            "text/plain": [
              "720"
            ]
          },
          "metadata": {
            "tags": []
          },
          "execution_count": 43
        }
      ]
    },
    {
      "cell_type": "markdown",
      "metadata": {
        "id": "gNV6_PHtqt8t",
        "colab_type": "text"
      },
      "source": [
        "**Fibonacci** **Series**"
      ]
    },
    {
      "cell_type": "code",
      "metadata": {
        "id": "fISruhUQJh92",
        "colab_type": "code",
        "colab": {}
      },
      "source": [
        "#0,1,1,2,3,5,8,13,21,34,55.....\n",
        "#Property\n",
        "#Base Case - sum(0,1)\n",
        "#nth number is the sum of previous two numbers\n",
        "#num(n) = sum(num(n-1),num(n-2))"
      ],
      "execution_count": null,
      "outputs": []
    },
    {
      "cell_type": "code",
      "metadata": {
        "id": "Up1ZrY6meqNm",
        "colab_type": "code",
        "colab": {}
      },
      "source": [
        "def fibonacci(n): \n",
        "    a = [0,1] \n",
        "    if n>0: \n",
        "      if n<=len(a): \n",
        "        return a[n-1] \n",
        "      else: \n",
        "        fibo = fibonacci(n-1)+fibonacci(n-2) \n",
        "        a.append(fibo) \n",
        "        return fibo \n",
        "    else:\n",
        "        print(\"Invalid_Input\")"
      ],
      "execution_count": 21,
      "outputs": []
    },
    {
      "cell_type": "code",
      "metadata": {
        "id": "1bL4pZ3ce0IG",
        "colab_type": "code",
        "colab": {
          "base_uri": "https://localhost:8080/",
          "height": 35
        },
        "outputId": "c4198ad6-76f6-4503-95cb-f5ee59e330c1"
      },
      "source": [
        "fibonacci(10)"
      ],
      "execution_count": 23,
      "outputs": [
        {
          "output_type": "execute_result",
          "data": {
            "text/plain": [
              "34"
            ]
          },
          "metadata": {
            "tags": []
          },
          "execution_count": 23
        }
      ]
    },
    {
      "cell_type": "markdown",
      "metadata": {
        "id": "qINrUpXOq0di",
        "colab_type": "text"
      },
      "source": [
        "**Binary** **Search**"
      ]
    },
    {
      "cell_type": "code",
      "metadata": {
        "id": "W22yHcNRVdUV",
        "colab_type": "code",
        "colab": {}
      },
      "source": [
        "list = [5,3,2,1,5,6,7,123,97,65,34,22,344,2245,122,345]\n",
        "\n",
        "#Searching an element in a list\n",
        "list1 = list.copy().sort()"
      ],
      "execution_count": 30,
      "outputs": []
    },
    {
      "cell_type": "code",
      "metadata": {
        "id": "00jU0UnCXtMR",
        "colab_type": "code",
        "colab": {
          "base_uri": "https://localhost:8080/",
          "height": 35
        },
        "outputId": "36b11e30-c352-48c6-82cb-4f95b5b8ea25"
      },
      "source": [
        "list"
      ],
      "execution_count": 31,
      "outputs": [
        {
          "output_type": "execute_result",
          "data": {
            "text/plain": [
              "[5, 3, 2, 1, 5, 6, 7, 123, 97, 65, 34, 22, 344, 2245, 122, 345]"
            ]
          },
          "metadata": {
            "tags": []
          },
          "execution_count": 31
        }
      ]
    },
    {
      "cell_type": "code",
      "metadata": {
        "id": "8lK21GcSnO8c",
        "colab_type": "code",
        "colab": {}
      },
      "source": [
        "list1"
      ],
      "execution_count": 32,
      "outputs": []
    },
    {
      "cell_type": "markdown",
      "metadata": {
        "id": "G7Qfa4kHq7fh",
        "colab_type": "text"
      },
      "source": [
        "**Tractable - PTIME (Polynomial Time Solvable)**"
      ]
    },
    {
      "cell_type": "code",
      "metadata": {
        "id": "UtKfCJTOXwpn",
        "colab_type": "code",
        "colab": {}
      },
      "source": [
        "#Polynomial - Expression where each term is n^k where k can be any whole number\n",
        "#Degree of the polynomial - Highest power of the variable within the expression  \n",
        "#Polynomial Time - Runtime of the code or solution should be a polynomial of degree k where k is a constant, and since time cannot be negative\n",
        "#n: input space or dimension \n",
        "#eg O(n^4) - 3*n^4+2*n^2+1\n",
        "n=1 => 1\n",
        "n=2 => 2^4\n",
        "n=3 => 3^4\n",
        "n=4 => 4^4 ...\n",
        "\n",
        "O(n!)\n",
        "n*n-1*n-2*...1 -> Polynomial of Degree n-1 - Non Polynomial Time (NP)"
      ],
      "execution_count": null,
      "outputs": []
    },
    {
      "cell_type": "markdown",
      "metadata": {
        "id": "6O1uhrebkEnC",
        "colab_type": "text"
      },
      "source": [
        "[11:07 AM] Anurag Raj VISFAC\n",
        "    \n",
        "\n",
        "\n",
        "Practical : \n",
        "\n",
        "https://www.hackerrank.com/challenges/validating-postalcode/problem\n",
        "\n",
        "\n",
        "https://www.hackerrank.com/challenges/coin-change/problem\n",
        "\n",
        "\n",
        "https://www.hackerrank.com/challenges/sherlock-and-cost/problem\n",
        "\n",
        "\n",
        "Complete atleast 1 problem in lab , others are for HW\n",
        "\n",
        "\n",
        "HW Addon:\n",
        "\n",
        "1) Find 1 NP Complete and 1 NP hard Problems with their Solution, Prepare a power point presentation on these problems , their solution strategy , algorithm and details.\n",
        "\n",
        "(Can do as a team of max 2 people)\n",
        "\n",
        "KARTIKAY LADDHA - 70091018026 Create a sheet with the group names and the problems they are presenting to avoid overlap between any 2 groups\n",
        "\n",
        "\n",
        "2) Read https://www.bigocheatsheet.com/\n",
        "\n",
        "\n",
        "EditedValidating Postal Codes | HackerRankVerify if the postal code is valid or invalid.www.hackerrank.com​\n",
        "<https://teams.microsoft.com/l/message/19:14c157bf0bc04a2581d11a9c452bd495@thread.tacv2/1596260277567?tenantId=d1f14348-f1b5-4a09-ac99-7ebf213cbc81&amp;groupId=6c620f9a-3735-4825-9f02-863d65ea0431&amp;parentMessageId=1593796874581&amp;teamName=AI- BTDS V&amp;channelName=General&amp;createdTime=1596260277567>"
      ]
    }
  ]
}